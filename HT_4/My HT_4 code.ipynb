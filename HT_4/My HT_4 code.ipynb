{
 "cells": [
  {
   "cell_type": "code",
   "execution_count": 20,
   "id": "49bbfba1",
   "metadata": {},
   "outputs": [
    {
     "name": "stdout",
     "output_type": "stream",
     "text": [
      "Please enter an integer number of the month from 1 to 12: 33\n",
      "\n",
      "Incorrect number. It must be an integer from 1 to 12. Try again.\n",
      "Please enter an integer number of the month from 1 to 12: vdjbb\n",
      "\n",
      "I SAID INTEGER NUMBER\n",
      "Please enter an integer number of the month from 1 to 12: 12\n",
      "\n",
      " It is a winter month\n"
     ]
    }
   ],
   "source": [
    "#TASK 1\n",
    "\"\"\"Написати функцiю season, яка приймає один аргумент (номер мiсяця вiд 1 до 12)\n",
    "та яка буде повертати пору року, до якої цей мiсяць належить (зима, весна, лiто або осiнь).\n",
    "У випадку некоректного введеного значення - виводити відповідне повідомлення.\"\"\"\n",
    "\n",
    "\n",
    "def season():\n",
    "    while True:\n",
    "        try:\n",
    "            month = int(input('Please enter an integer number of the month from 1 to 12: '))\n",
    "            if (month == 1) or (month == 2) or (month == 12):\n",
    "                res = 'It is a winter month'\n",
    "                break\n",
    "            elif (month >= 3) & (month <= 5):\n",
    "                res = 'It is a spring month'\n",
    "                break\n",
    "            elif (month >= 6) & (month <= 8):\n",
    "                res = 'It is a summer month'\n",
    "                break\n",
    "            elif (month >= 9) & (month <= 12):\n",
    "                res = 'It is an autumn month'\n",
    "                break\n",
    "            else:\n",
    "                print('\\nIncorrect number. It must be an integer from 1 to 12. Try again.')\n",
    "        except ValueError:\n",
    "            print('\\nI SAID INTEGER NUMBER')\n",
    "    print('\\n', res)\n",
    "\n",
    "    \n",
    "season()"
   ]
  },
  {
   "cell_type": "code",
   "execution_count": 25,
   "id": "d5a97a3a",
   "metadata": {},
   "outputs": [
    {
     "name": "stdout",
     "output_type": "stream",
     "text": [
      "The first adding number (a): 98\n",
      "The second adding number (b): 76\n",
      "Minuend (c): 54\n",
      "Subtrahend (d): 32\n",
      "\n",
      "((a + b) * (c - d))^2 =  14653584.0\n"
     ]
    }
   ],
   "source": [
    "#TASK 2\n",
    "\"\"\"Створіть 3 рiзних функцiї (на ваш вибiр). Кожна з цих функцiй повинна повертати якийсь результат (напр. інпут від юзера, результат\n",
    "математичної операції тощо). Також створiть четверту ф-цiю, яка всередині викликає 3 попередні, обробляє їх результат та також повертає\n",
    "результат своєї роботи. Таким чином ми будемо викликати одну (четверту) функцiю, а вона в своєму тiлi - ще 3.\"\"\"\n",
    "\n",
    "\n",
    "def sum_of_two():\n",
    "    a = float(input('The first adding number (a): '))\n",
    "    b = float(input('The second adding number (b): '))\n",
    "    return a + b\n",
    "\n",
    "\n",
    "def subtraction_of_two():\n",
    "    a = float(input('Minuend (c): '))\n",
    "    b = float(input('Subtrahend (d): '))\n",
    "    return a - b\n",
    "\n",
    "\n",
    "def multiplication(a, b):\n",
    "    return a * b\n",
    "\n",
    "\n",
    "def full_expression():\n",
    "    return multiplication(sum_of_two(), subtraction_of_two()) ** 2\n",
    "\n",
    "\n",
    "print('\\n((a + b) * (c - d))^2 = ', full_expression())"
   ]
  },
  {
   "cell_type": "code",
   "execution_count": 32,
   "id": "01f67ced",
   "metadata": {},
   "outputs": [
    {
     "name": "stdout",
     "output_type": "stream",
     "text": [
      "Please enter the 1st number: dfg\n",
      "Entered values must be NUMBERS. Try again :)\n",
      "\n",
      "Please enter the 1st number: 65\n",
      "Please enter the 2nd number: jhg\n",
      "Entered values must be NUMBERS. Try again :)\n",
      "\n",
      "Please enter the 1st number: 999\n",
      "Please enter the 2nd number: 999\n",
      "\n",
      "999.0 and 999.0 are equal\n"
     ]
    }
   ],
   "source": [
    "#TASK 3\n",
    "\"\"\"Користувач вводить змінні \"x\" та \"y\" з довільними цифровими значеннями. Створіть просту умовну конструкцію (звiсно вона повинна бути\n",
    "в тiлi ф-цiї), під час виконання якої буде перевірятися рівність змінних \"x\" та \"y\" та у випадку нерівності - виводити ще і різницю.\n",
    "    Повинні працювати такі умови (x, y, z заміність на відповідні числа):\n",
    "    x > y;       вiдповiдь - \"х бiльше нiж у на z\"\n",
    "    x < y;       вiдповiдь - \"у бiльше нiж х на z\"\n",
    "    x == y.      відповідь - \"х дорівнює y\" \"\"\"\n",
    "\n",
    "\n",
    "def compare():\n",
    "    while True:\n",
    "        try:\n",
    "            x = float(input('Please enter the 1st number: '))\n",
    "            y = float(input('Please enter the 2nd number: '))\n",
    "            if x > y:\n",
    "                return print(f'\\n{x} is larger than {y} on {x - y}')\n",
    "                break\n",
    "            if y > x:\n",
    "                return print(f'\\n{y} is larger than {x} on {y - x}')\n",
    "                break\n",
    "            else:\n",
    "                return print(f'\\n{x} and {y} are equal')\n",
    "                break\n",
    "        except ValueError:\n",
    "            print('Entered values must be NUMBERS. Try again :)\\n')\n",
    "\n",
    "            \n",
    "compare()"
   ]
  },
  {
   "cell_type": "code",
   "execution_count": 101,
   "id": "f6f6ce3b",
   "metadata": {},
   "outputs": [
    {
     "name": "stdout",
     "output_type": "stream",
     "text": [
      "Please enter smth. Yes, u can just haphazardly poke around the keyboard =)\n",
      "f98neroi4nr0c3n30irn03ien3c0rfe kdno400we(nw,kowe%00koi!jn35pijnp4 6ij7k5j78p3kj546p4 65jnpoj35po6j345\n",
      "F10NEROI0NR0C1N10IRN01IEN1C0RFE KDNO000WE(NW,KOWE%00KOI!JN11PIJNP0 0IJ1K1J10P1KJ100P0 01JNPOJ11PO0J101\n"
     ]
    }
   ],
   "source": [
    "#TASK 4\n",
    "\"\"\"Наприклад маємо рядок -->\n",
    "\"f98neroi4nr0c3n30irn03ien3c0rfe kdno400we(nw,kowe%00koi!jn35pijnp4 6ij7k5j78p3kj546p4 65jnpoj35po6j345\"\n",
    "-> просто потицяв по клавi =)\n",
    "   Створіть ф-цiю, яка буде отримувати довільні рядки на зразок цього та яка обробляє наступні випадки:\n",
    "-  якщо довжина рядка в діапазоні 30-50 (включно) -> прiнтує довжину рядка, кiлькiсть букв та цифр\n",
    "-  якщо довжина менше 30 -> прiнтує суму всіх цифр та окремо рядок без цифр та знаків лише з буквами (без пробілів)\n",
    "-  якщо довжина більше 50 -> щось вигадайте самі, проявіть фантазію =)\"\"\"\n",
    "\n",
    "\n",
    "import re\n",
    "\n",
    "\n",
    "def stringmeter():\n",
    "    my_string = input('Please enter smth. Yes, u can just haphazardly poke around the keyboard =)\\n')\n",
    "    no_digits = ''.join([i for i in my_string if not i.isdigit()])\n",
    "    letters = re.sub(r'[^\\w]', '', no_digits)\n",
    "    digits = ''.join([i for i in my_string if i.isdigit()])\n",
    "    if (len(my_string) >= 30) & (len(my_string) <= 50):\n",
    "        print('\\nString length: ', len(my_string))\n",
    "        print(f'It includes {len(letters)} letters.')\n",
    "        print(f'Also it includes {len(digits)} digits.')\n",
    "    elif len(my_string) < 30:\n",
    "        digits_sum = 0\n",
    "        for i in digits:\n",
    "            digits_sum += int(i)\n",
    "        print('\\nSum of the digits is: ', digits_sum)\n",
    "        print('Your string without numbers and symbols: ', letters)\n",
    "    else:\n",
    "        for i in my_string:\n",
    "            if i.isdigit():\n",
    "                if int(i) % 2 == 0:\n",
    "                    my_string = my_string.replace(i, '0')\n",
    "                else:\n",
    "                    my_string = my_string.replace(i, '1')\n",
    "        print(my_string.upper())\n",
    "\n",
    "\n",
    "stringmeter()"
   ]
  },
  {
   "cell_type": "code",
   "execution_count": 192,
   "id": "5838e326",
   "metadata": {},
   "outputs": [
    {
     "name": "stdout",
     "output_type": "stream",
     "text": [
      "Please enter 1-operation problem, make sure to put spaces between the numbers and the operation.\n",
      "27 without remainder divide by 5\n",
      "27 without remainder divide by 5 = 5.0\n"
     ]
    }
   ],
   "source": [
    "#TASK 5\n",
    "\"\"\"Ну і традиційно - калькулятор. Повинна бути 1 функцiя, яка приймає 3 аргументи - один з яких операцiя, яку зробити!\n",
    "Аргументи брати від юзера (можна по одному - окремо 2, окремо +, окремо 2; можна всі разом - типу 2 + 2).\n",
    "Операції що мають бути присутні: +, -, *, /, %, //, **. Не забудьте протестувати з різними значеннями на предмет помилок!\"\"\"\n",
    "\n",
    "\n",
    "def calculator(a, b, operation):\n",
    "    try:\n",
    "        a = float(a)\n",
    "        b = float(b)\n",
    "        if ('+' in operation) or ('plus' in operation):\n",
    "            return a + b\n",
    "        elif ('-' in operation) or ('minus' in operation):\n",
    "            return a - b\n",
    "        elif ('*' in operation) or ('x' in operation) or ('multiply' in operation):\n",
    "            return a * b\n",
    "        elif (('/' in operation) or (':' in operation) or ('divide' in operation)) & ('remainder' not in operation):\n",
    "            return a / b\n",
    "        elif ('%' in operation) or (('remainder' in operation) & ('without' not in operation) & ('no' not in operation)):\n",
    "            return a % b\n",
    "        elif ('//' in operation) or (('remainder' in operation) & (('without' in operation) or ('no' in operation))):\n",
    "            return a // b\n",
    "        elif ('**' in operation) or ('pow' in operation) or ('power' in operation):\n",
    "            return a ** b\n",
    "        else:\n",
    "            return print('nothing. Are u sure this operation exists?')\n",
    "    except ValueError:\n",
    "        print('\\n! Do not forget about spases between the numbers and the operation !\\n')\n",
    "    except ZeroDivisionError:\n",
    "        print('\\n! Trying to divide by 0? Want to talk about linear analysis? !\\n')\n",
    "\n",
    "\n",
    "probl = input('Please enter 1-operation problem, make sure to put spaces between the numbers and the operation.\\n')\n",
    "problem = probl.split()\n",
    "print(probl + ' = ' + str(calculator(problem[0], problem[-1], problem[1:-1])))"
   ]
  }
 ],
 "metadata": {
  "kernelspec": {
   "display_name": "Python 3 (ipykernel)",
   "language": "python",
   "name": "python3"
  },
  "language_info": {
   "codemirror_mode": {
    "name": "ipython",
    "version": 3
   },
   "file_extension": ".py",
   "mimetype": "text/x-python",
   "name": "python",
   "nbconvert_exporter": "python",
   "pygments_lexer": "ipython3",
   "version": "3.10.1"
  }
 },
 "nbformat": 4,
 "nbformat_minor": 5
}
