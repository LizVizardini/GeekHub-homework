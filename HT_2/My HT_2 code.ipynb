{
 "cells": [
  {
   "cell_type": "code",
   "execution_count": 2,
   "id": "fcd5999e",
   "metadata": {},
   "outputs": [
    {
     "name": "stdout",
     "output_type": "stream",
     "text": [
      "Please write some comma-separated numbers: 37.10,177.3,222,0000.2,.2\n",
      "Here is a list of them: [37.1, 177.3, 222.0, 0.2, 0.2]\n",
      "\n",
      "Please write some other comma-separated numbers: 345.333,567.,99,0.65,.77\n",
      "Here is a tuple of them: (345.333, 567.0, 99.0, 0.65, 0.77)\n"
     ]
    }
   ],
   "source": [
    "#TASK 1\n",
    "#Write a script that accepts a sequence of comma-separated numbers from the user\n",
    "#and generates a list and a tuple with those numbers.\n",
    "\n",
    "#CREATING THE LIST\n",
    "numbers = input('Please write some comma-separated numbers: ')\n",
    "lst = list(map(float, numbers.split(',')))\n",
    "print('Here is a list of them:', lst)\n",
    "\n",
    "#CREATING THE TUPLE\n",
    "numbers = input('\\nPlease write some other comma-separated numbers: ')\n",
    "tpl = tuple(map(float, numbers.split(',')))\n",
    "print('Here is a tuple of them:', tpl)"
   ]
  },
  {
   "cell_type": "code",
   "execution_count": 3,
   "id": "ad9cd7b4",
   "metadata": {},
   "outputs": [
    {
     "name": "stdout",
     "output_type": "stream",
     "text": [
      "Please write the 1st group of comma-separated colors: red, green, blue\n",
      "Please write the 2nd group of comma-separated colors: purple, blue, orange\n",
      "\n",
      "All the colors from color_list_1 which are not present in color_list_2:  {' green', 'red'}\n"
     ]
    }
   ],
   "source": [
    "#TASK 2\n",
    "#Write a script which accepts two sequences of comma-separated colors from user.\n",
    "#Then print out a set containing all the colors from color_list_1 which are not present in color_list_2.\n",
    "\n",
    "color_list_1 = set(input('Please write the 1st group of comma-separated colors: ').split(','))\n",
    "color_list_2 = set(input('Please write the 2nd group of comma-separated colors: ').split(','))\n",
    "print('\\nAll the colors from color_list_1 which are not present in color_list_2: ', color_list_1 - color_list_2)"
   ]
  },
  {
   "cell_type": "code",
   "execution_count": 4,
   "id": "3c876513",
   "metadata": {},
   "outputs": [
    {
     "name": "stdout",
     "output_type": "stream",
     "text": [
      "Please input a number: 5\n",
      "A sum of the first 5 positive integers: 15\n"
     ]
    }
   ],
   "source": [
    "#TASK 3\n",
    "#Write a script that accepts a <number> from the user\n",
    "#and prints out a sum of the first <number> positive integers.\n",
    "\n",
    "n = int(input('Please input a number: '))\n",
    "sum = 0\n",
    "for i in range (1, n+1):\n",
    "    sum += i\n",
    "print(f'A sum of the first {n} positive integers: {sum}')"
   ]
  },
  {
   "cell_type": "code",
   "execution_count": 5,
   "id": "313a2219",
   "metadata": {},
   "outputs": [
    {
     "name": "stdout",
     "output_type": "stream",
     "text": [
      "Please input a number: 3\n",
      "Please enter smth: It \n",
      "Please enter smth: was \n",
      "Please enter smth: fun\n",
      "It was fun\n"
     ]
    }
   ],
   "source": [
    "#TASK 4\n",
    "#Write a script that accepts a <number> from the user and then <number> times asks the user for string input.\n",
    "#In the end, the script must print out the result of concatenating all <number> strings.\n",
    "\n",
    "n = int(input('Please input a number: '))\n",
    "s = ''\n",
    "for i in range (n):\n",
    "    s += input('Please enter smth: ')\n",
    "print(s)"
   ]
  },
  {
   "cell_type": "code",
   "execution_count": 6,
   "id": "27842051",
   "metadata": {},
   "outputs": [
    {
     "name": "stdout",
     "output_type": "stream",
     "text": [
      "Please enter a decimal number: 77\n",
      "Hexadecimal:  4d\n"
     ]
    }
   ],
   "source": [
    "#TASK 5\n",
    "#Write a script that accepts a decimal number from the user and converts it to hexadecimal.\n",
    "\n",
    "print('Hexadecimal: ', format(int(input('Please enter a decimal number: ')), '02x'))"
   ]
  },
  {
   "cell_type": "code",
   "execution_count": 7,
   "id": "e423ad41",
   "metadata": {},
   "outputs": [
    {
     "name": "stdout",
     "output_type": "stream",
     "text": [
      "Please write some of comma-separated values: 6,cgjj,{},(),[],4567,0.33\n",
      "Enter an element u wanna check: ()\n"
     ]
    },
    {
     "data": {
      "text/plain": [
       "True"
      ]
     },
     "execution_count": 7,
     "metadata": {},
     "output_type": "execute_result"
    }
   ],
   "source": [
    "#TASK 6\n",
    "#Write a script to check whether a value from user input is contained in a group of values.\n",
    "\n",
    "lst = input('Please write some of comma-separated values: ').split(',')\n",
    "input('Enter an element u wanna check: ') in lst"
   ]
  },
  {
   "cell_type": "code",
   "execution_count": 9,
   "id": "a173c2f6",
   "metadata": {},
   "outputs": [
    {
     "data": {
      "text/plain": [
       "'6cgjj0, 9, 87.654'"
      ]
     },
     "execution_count": 9,
     "metadata": {},
     "output_type": "execute_result"
    }
   ],
   "source": [
    "#TASK 7\n",
    "#Write a script to concatenate all elements in a list into a string and print it.\n",
    "#The list must include both strings and integers and must be hard coded.\n",
    "\n",
    "''.join(str(e) for e in [6, 'cgjj', '0, 9, 8', 7.654])"
   ]
  }
 ],
 "metadata": {
  "kernelspec": {
   "display_name": "Python 3 (ipykernel)",
   "language": "python",
   "name": "python3"
  },
  "language_info": {
   "codemirror_mode": {
    "name": "ipython",
    "version": 3
   },
   "file_extension": ".py",
   "mimetype": "text/x-python",
   "name": "python",
   "nbconvert_exporter": "python",
   "pygments_lexer": "ipython3",
   "version": "3.10.1"
  }
 },
 "nbformat": 4,
 "nbformat_minor": 5
}
