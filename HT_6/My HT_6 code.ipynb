{
 "cells": [
  {
   "cell_type": "code",
   "execution_count": 97,
   "id": "49bbfba1",
   "metadata": {},
   "outputs": [
    {
     "name": "stdout",
     "output_type": "stream",
     "text": [
      "Try again. [LoginException('Incorrect username or password')]\n"
     ]
    }
   ],
   "source": [
    "#TASK 1\n",
    "\"\"\"Створіть функцію, всередині якої будуть записано СПИСОК із п'яти користувачів (ім'я та пароль).\n",
    "Функція повинна приймати три аргументи: два - обов'язкових (<username> та <password>) і третій -\n",
    "необов'язковий параметр <silent> (значення за замовчуванням - <False>).\n",
    "Логіка наступна:\n",
    "    якщо введено правильну пару ім'я/пароль - вертається True;\n",
    "    якщо введено неправильну пару ім'я/пароль:\n",
    "        якщо silent == True - функція повертає False\n",
    "        якщо silent == False - породжується виключення LoginException (його також треба створити =))\"\"\"\n",
    "\n",
    "class LoginException(Exception):\n",
    "    ...\n",
    "\n",
    "\n",
    "def passwords_base(username, password, silent = False):\n",
    "    lst = [['Quincy100', '86ktzQGnlj'], ['Wi77', 'rrt9GUbp'], ['Ellala^_^', '7kKOnW12nI'],\n",
    "           ['Ro55', 'XW1gXXyj9I5o'], ['Tilni#1', 'iSKYn8UnfBXnj']]\n",
    "    for i in lst:\n",
    "        if [username, password] in lst:\n",
    "            return True\n",
    "        elif silent == True:\n",
    "            return False\n",
    "        else:\n",
    "            raise LoginException('Incorrect username or password')\n",
    "\n",
    "\n",
    "try:\n",
    "    print(passwords_base('Quincy100', '345678', True))\n",
    "except LoginException as le:\n",
    "    print(f'Try again. {[le]}')"
   ]
  },
  {
   "cell_type": "code",
   "execution_count": 104,
   "id": "d5a97a3a",
   "metadata": {},
   "outputs": [
    {
     "name": "stdout",
     "output_type": "stream",
     "text": [
      "Try again. [LoginException('The password could not includ space')]\n"
     ]
    }
   ],
   "source": [
    "#TASK 2\n",
    "#Створіть функцію для валідації пари ім'я/пароль за наступними правилами:\n",
    "#   - ім'я повинно бути не меншим за 3 символа і не більшим за 50;\n",
    "#   - пароль повинен бути не меншим за 8 символів і повинен мати хоча б одну цифру;\n",
    "#   - якесь власне додаткове правило :)\n",
    "#   Якщо якийсь із параметрів не відповідає вимогам - породити виключення із відповідним текстом.\n",
    "\n",
    "class LoginException(Exception):\n",
    "    ...\n",
    "\n",
    "\n",
    "def validation(username, password):\n",
    "    lst = [['Quincy100', '86ktzQGnlj'], ['Wi77', 'rrt9GUbp'], ['Ellala^_^', '7kKOnW12nI'],\n",
    "           ['Ro55', 'XW1gXXyj9I5o'], ['Tilni#1', 'iSKYn8UnfBXnj']]\n",
    "    if len(username) < 3 or len(username) > 50:\n",
    "        raise LoginException('The username must include from 3 to 50 symbols')\n",
    "    if len(password) < 8 or all(not char.isdigit() for char in password):\n",
    "        raise LoginException('The password must include 8 symbols or more and at least 1 of them must be a number')\n",
    "    if username == password:\n",
    "        raise LoginException('The password and the username could not be equal')\n",
    "    if ' ' in password:\n",
    "        raise LoginException('The password could not includ space')\n",
    "    if [username, password] in lst:\n",
    "        return f'Login complete succesfully!'\n",
    "    else:\n",
    "        lst.append([username, password])\n",
    "        return f'Account created!'\n",
    "    \n",
    "        \n",
    "        \n",
    "try:\n",
    "    print(validation('Quincy100', '86 ktzQGnlj'))\n",
    "except LoginException as le:\n",
    "    print(f'Try again. {[le]}')"
   ]
  },
  {
   "cell_type": "code",
   "execution_count": 105,
   "id": "01f67ced",
   "metadata": {},
   "outputs": [
    {
     "name": "stdout",
     "output_type": "stream",
     "text": [
      "Name: Quincy100\n",
      "Password: kLIuVOU0DIZdgoz\n",
      "\n",
      "Status:\n",
      "OK\n",
      "------------------------------------------------------------------------------------\n",
      "Name: Wi\n",
      "Password: yLiTekbF9UN\n",
      "\n",
      "Status:\n",
      "The username must include from 3 to 50 symbols\n",
      "------------------------------------------------------------------------------------\n",
      "Name: Ellalalalalalalalalalalalalalalalalalallalalalala^_^\n",
      "Password: Jgd8gUxwzS\n",
      "\n",
      "Status:\n",
      "The username must include from 3 to 50 symbols\n",
      "------------------------------------------------------------------------------------\n",
      "Name: Ro55\n",
      "Password: xBIllSRAmnopP\n",
      "\n",
      "Status:\n",
      "The password must include 8 symbols or more and at least 1 of them must be a number\n",
      "------------------------------------------------------------------------------------\n",
      "Name: Tilni#1\n",
      "Password: F7yBJlfbS\n",
      "\n",
      "Status:\n",
      "OK\n",
      "------------------------------------------------------------------------------------\n",
      "THAT`S ALL USERS\n"
     ]
    }
   ],
   "source": [
    "#TASK 3\n",
    "\"\"\"На основі попередньої функції (скопіюйте кусок коду) створити наступний скрипт:\n",
    "   а) створити список із парами ім'я/пароль різноманітних видів (орієнтуйтесь по правилам своєї функції) - як валідні, так і ні;\n",
    "   б) створити цикл, який пройдеться по цьому циклу і, користуючись валідатором, перевірить ці дані і надрукує для кожної пари значень\n",
    "   відповідне повідомлення, наприклад:\n",
    "      Name: vasya\n",
    "      Password: wasd\n",
    "      Status: password must have at least one digit\n",
    "      -----\n",
    "      Name: vasya\n",
    "      Password: vasyapupkin2000\n",
    "      Status: OK\n",
    "   P.S. Не забудьте використати блок try/except ;)\n",
    "\"\"\"\n",
    "\n",
    "\n",
    "class LoginException(Exception):\n",
    "    ...\n",
    "\n",
    "\n",
    "def list_validation():\n",
    "    # a)\n",
    "    lst = [['Quincy100'], ['Wi'], ['Ellalalalalalalalalalalalalalalalalalallalalalala^_^'], ['Ro55'], ['Tilni#1']]\n",
    "    for i in range (len(lst)):\n",
    "        lst[i].append(''.join((random.choice(string.ascii_letters + string.digits) for i in range(random.randint(5, 15)))))\n",
    "    # б)\n",
    "    for i in range (len(lst)):\n",
    "        print(f'Name: {lst[i][0]}\\nPassword: {lst[i][1]}\\n\\nStatus:')\n",
    "        try:\n",
    "            if len(lst[i][0]) < 3 or len(lst[i][0]) > 50:\n",
    "                raise LoginException('The username must include from 3 to 50 symbols')\n",
    "            if len(lst[i][1]) < 8 or all(not char.isdigit() for char in lst[i][1]):\n",
    "                raise LoginException('The password must include 8 symbols or more and at least 1 of them must be a number')\n",
    "            if lst[i][0] == lst[i][1]:\n",
    "                raise LoginException('The password and the username could not be equal')\n",
    "            if ' ' in lst[i][1]:\n",
    "                raise LoginException('The password could not includ space')\n",
    "            else:\n",
    "                print('OK')\n",
    "        except LoginException as le:\n",
    "            print(le)\n",
    "        print('------------------------------------------------------------------------------------')\n",
    "        if i == len(lst) - 1:\n",
    "            print('THAT`S ALL USERS')\n",
    "        \n",
    "\n",
    "list_validation()"
   ]
  },
  {
   "cell_type": "code",
   "execution_count": 132,
   "id": "f6f6ce3b",
   "metadata": {},
   "outputs": [
    {
     "data": {
      "text/plain": [
       "'HELLO WORLD'"
      ]
     },
     "execution_count": 132,
     "metadata": {},
     "output_type": "execute_result"
    }
   ],
   "source": [
    "#TASK 4\n",
    "\"\"\"Створіть функцію <morse_code>, яка приймає на вхід рядок у вигляді коду Морзе та виводить декодоване значення (латинськими літерами).\n",
    "   Особливості:\n",
    "    - використовуються лише крапки, тире і пробіли (.- )\n",
    "    - один пробіл означає нову літеру\n",
    "    - три пробіли означають нове слово\n",
    "    - результат може бути case-insensitive (на ваш розсуд - великими чи маленькими літерами).\n",
    "    - для простоти реалізації - цифри, знаки пунктуацїї, дужки, лапки тощо використовуватися не будуть. Лише латинські літери.\n",
    "    - додайте можливість декодування сервісного сигналу SOS (...---...)\n",
    "    Приклад:\n",
    "    --. . . -.- .... ..- -...   .. ...   .... . .-. .\n",
    "    результат: GEEKHUB IS HERE\"\"\"\n",
    "\n",
    "\n",
    "def morse_code(your_string):\n",
    "    morse_dict = { 'SOS' : '...---...', 'A' : '.-', 'B' : '-...', 'C' : '-.-.', 'D' : '-..', 'E' : '.',\n",
    "                    'F' : '..-.', 'G' : '--.', 'H' : '....', 'I' : '..', 'J' : '.---', 'K' : '-.-',\n",
    "                    'L' : '.-..', 'M' : '--', 'N' : '-.', 'O' : '---', 'P' : '.--.', 'Q' : '--.-',\n",
    "                    'R' : '.-.', 'S' : '...', 'T' : '-', 'U' : '..-', 'V' : '...-', 'W' : '.--', 'X' : '-..-',\n",
    "                    'Y' : '-.--', 'Z' : '--..'}\n",
    "    lst = your_string.split('   ')\n",
    "    lst = [item.split() for item in lst]\n",
    "    result = ''\n",
    "    for i in range (len(lst)):\n",
    "        for j in range (len(lst[i])):\n",
    "            result += list(morse_dict.keys())[list(morse_dict.values()).index(lst[i][j])]\n",
    "        if i != len(lst) - 1:\n",
    "            result += ' '\n",
    "    return result\n",
    "morse_code('.... . .-.. .-.. ---   .-- --- .-. .-.. -..')"
   ]
  }
 ],
 "metadata": {
  "kernelspec": {
   "display_name": "Python 3 (ipykernel)",
   "language": "python",
   "name": "python3"
  },
  "language_info": {
   "codemirror_mode": {
    "name": "ipython",
    "version": 3
   },
   "file_extension": ".py",
   "mimetype": "text/x-python",
   "name": "python",
   "nbconvert_exporter": "python",
   "pygments_lexer": "ipython3",
   "version": "3.10.1"
  }
 },
 "nbformat": 4,
 "nbformat_minor": 5
}
