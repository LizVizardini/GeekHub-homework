{
 "cells": [
  {
   "cell_type": "code",
   "execution_count": 10,
   "id": "49bbfba1",
   "metadata": {},
   "outputs": [
    {
     "name": "stdout",
     "output_type": "stream",
     "text": [
      "Please enter any value: smth\n",
      "[(1, 2, 'smth'), (4, 5, 6, 7, 8, 9, 'smth'), (4, 2, 3, 'smth'), (6, 'smth'), ()]\n"
     ]
    }
   ],
   "source": [
    "#TASK 1\n",
    "#Write a script that will run through a list of tuples and replace the last value for each tuple.\n",
    "#The list of tuples can be hard coded. The \"replacement\" value is entered by the user.\n",
    "#The number of elements in the tuples must be different.\n",
    "\n",
    "lst = [(1, 2, 3), (4, 5, 6, 7, 8, 9, 0), (4, 2, 3, 1), (6, 7), ()]\n",
    "new_lst = []\n",
    "repl_value = input('Please enter any value: ')\n",
    "for i in lst:\n",
    "    if i:\n",
    "        new_lst.append(i[:-1] + (repl_value,))\n",
    "    else:\n",
    "        new_lst.append(i)\n",
    "print(new_lst)"
   ]
  },
  {
   "cell_type": "code",
   "execution_count": 15,
   "id": "d5a97a3a",
   "metadata": {},
   "outputs": [
    {
     "name": "stdout",
     "output_type": "stream",
     "text": [
      "['hey', ('',), ('ma', 'ke', 'my'), [''], ['d', 'a', 'y']]\n"
     ]
    }
   ],
   "source": [
    "#TASK 2\n",
    "#Write a script to remove empty elements from a list.\n",
    "#    Test list: [(), ('hey'), ('',), ('ma', 'ke', 'my'), [''], {}, ['d', 'a', 'y'], '', []]\n",
    "\n",
    "lst = [(), ('hey'), ('',), ('ma', 'ke', 'my'), [''], {}, ['d', 'a', 'y'], '', []]\n",
    "print(list(filter(bool, lst)))"
   ]
  },
  {
   "cell_type": "code",
   "execution_count": 23,
   "id": "01f67ced",
   "metadata": {},
   "outputs": [
    {
     "name": "stdout",
     "output_type": "stream",
     "text": [
      "{'foo': 'bar', 'bar': 'buz', 'dou': 'jones', 'USD': 36, 'AUD': 19.2, 'name': 'Tom'}\n"
     ]
    }
   ],
   "source": [
    "#TASK 3\n",
    "#Write a script to concatenate the following dictionaries to create a NEW one.\n",
    "\n",
    "dict_1 = {'foo': 'bar', 'bar': 'buz'}\n",
    "dict_2 = {'dou': 'jones', 'USD': 36}\n",
    "dict_3 = {'AUD': 19.2, 'name': 'Tom'}\n",
    "\n",
    "new_dict = {**dict_1, **dict_2, **dict_3}\n",
    "print(new_dict)"
   ]
  },
  {
   "cell_type": "code",
   "execution_count": 24,
   "id": "f6f6ce3b",
   "metadata": {},
   "outputs": [
    {
     "name": "stdout",
     "output_type": "stream",
     "text": [
      "{'foo': 'bar', 'bar': 'buz', 'dou': 'jones', 'USD': 36, 'AUD': 19.2, 'name': 'Tom'}\n"
     ]
    }
   ],
   "source": [
    "#TASK 4\n",
    "#Write a script that combines three dictionaries by updating the FIRST one\n",
    "#(you can use dicts from the previous task).\n",
    "\n",
    "dict_1.update(dict_2)\n",
    "dict_1.update(dict_3)\n",
    "print(dict_1)"
   ]
  },
  {
   "cell_type": "code",
   "execution_count": 11,
   "id": "5838e326",
   "metadata": {},
   "outputs": [
    {
     "name": "stdout",
     "output_type": "stream",
     "text": [
      "The old dictionary:\n",
      " {'foo': 'bar', 'bar': 'buz', 'dou': 'jones', 'USD': 36, 'AUD': 19.2, 'name': 'Tom', 'oof': 'bar', 'oud': 'buz'}\n",
      "\n",
      "The new dictionary:\n",
      " {'foo': 'bar', 'bar': 'buz', 'dou': 'jones', 'USD': 36, 'AUD': 19.2, 'name': 'Tom'}\n"
     ]
    }
   ],
   "source": [
    "#TASK 5\n",
    "#Write a script to remove values duplicates from dictionary. Feel free to hardcode your dictionary.\n",
    "\n",
    "dct = {'foo': 'bar', 'bar': 'buz', 'dou': 'jones', 'USD': 36, 'AUD': 19.2, 'name': 'Tom', 'oof': 'bar', 'oud': 'buz'}\n",
    "dct2 = {}\n",
    "print('The old dictionary:\\n', dct)\n",
    "for i, j in dct.items():\n",
    "    if j not in dct2.values():\n",
    "        dct2[i] = dct[i]\n",
    "print('\\nThe new dictionary:\\n', dct2)"
   ]
  },
  {
   "cell_type": "code",
   "execution_count": 7,
   "id": "e3baf38b",
   "metadata": {},
   "outputs": [
    {
     "name": "stdout",
     "output_type": "stream",
     "text": [
      "Here is the dictionary:\n",
      "{'key0': 75, 'key1': 75, 'key2': 49, 'key3': 95, 'key4': 1}\n",
      "\n",
      "The maximum value is: 95\n",
      "The minimum value is: 1\n"
     ]
    }
   ],
   "source": [
    "#TASK 6\n",
    "#Write a script to get the maximum and minimum VALUE in a dictionary.\n",
    "\n",
    "\n",
    "from random import randrange\n",
    "\n",
    "\n",
    "def random_dict():\n",
    "    mydict = {}\n",
    "    n = randrange(10)\n",
    "    for i in range(n):\n",
    "        mydict['key' + str(i)] = randrange(100)\n",
    "    return mydict\n",
    "\n",
    "\n",
    "r_dict = random_dict()\n",
    "print(f'Here is the dictionary:\\n{r_dict}\\n')\n",
    "print(f'The maximum value is: {r_dict[max(r_dict, key = r_dict.get)]}')\n",
    "print(f'The minimum value is: {r_dict[min(r_dict, key = r_dict.get)]}')"
   ]
  },
  {
   "cell_type": "code",
   "execution_count": 52,
   "id": "f837b36b",
   "metadata": {},
   "outputs": [
    {
     "name": "stdout",
     "output_type": "stream",
     "text": [
      "Please enter any integer: 3\n"
     ]
    },
    {
     "data": {
      "text/plain": [
       "{0: 0, 1: 1, 2: 4, 3: 9}"
      ]
     },
     "execution_count": 52,
     "metadata": {},
     "output_type": "execute_result"
    }
   ],
   "source": [
    "#TASK 7\n",
    "#Write a script which accepts a <number>(int) from user and generates dictionary\n",
    "#in range <number> where key is <number> and value is <number>*<number>\n",
    "#    e.g. 3 --> {0: 0, 1: 1, 2: 4, 3: 9}\n",
    "\n",
    "n = int(input('Please enter any integer: '))\n",
    "mydict = {}\n",
    "for i in range(n+1):\n",
    "    mydict[i] = i*i\n",
    "mydict"
   ]
  },
  {
   "cell_type": "code",
   "execution_count": 9,
   "id": "7d56cf0a",
   "metadata": {},
   "outputs": [
    {
     "name": "stdout",
     "output_type": "stream",
     "text": [
      "Please enter any integer: 200\n",
      "0\n",
      "17\n",
      "34\n",
      "51\n",
      "68\n",
      "85\n",
      "102\n",
      "119\n",
      "136\n",
      "153\n",
      "170\n",
      "187\n"
     ]
    }
   ],
   "source": [
    "#TASK 8\n",
    "#Створити цикл від 0 до ... (вводиться користувачем).\n",
    "#В циклі створити умову, яка буде виводити поточне значення, якщо остача від ділення на 17 дорівнює 0.\n",
    "\n",
    "n = int(input('Please enter any integer: '))\n",
    "for i in range (n):\n",
    "    if i % 17 == 0:\n",
    "        print(i)"
   ]
  },
  {
   "cell_type": "code",
   "execution_count": 3,
   "id": "968674d0",
   "metadata": {},
   "outputs": [
    {
     "name": "stdout",
     "output_type": "stream",
     "text": [
      "Please write year of beginning and end separated by \"-\": 2002-2022\n",
      "2004\n",
      "2008\n",
      "2012\n",
      "2016\n",
      "2020\n"
     ]
    }
   ],
   "source": [
    "#TASK 9\n",
    "#Користувачем вводиться початковий і кінцевий рік. Створити цикл, який виведе всі високосні роки в цьому проміжку (границі включно).\n",
    "#P.S. Рік є високосним, якщо він кратний 4, але не кратний 100, а також якщо він кратний 400.\n",
    "\n",
    "term = input('Please write year of beginning and end separated by \"-\": ').split('-')\n",
    "for i in range (int(term[0]), int(term[1]) + 1):\n",
    "    if ((i % 4 == 0) and (i % 100 != 0)) or (i % 400 == 0):\n",
    "        print(i)"
   ]
  }
 ],
 "metadata": {
  "kernelspec": {
   "display_name": "Python 3 (ipykernel)",
   "language": "python",
   "name": "python3"
  },
  "language_info": {
   "codemirror_mode": {
    "name": "ipython",
    "version": 3
   },
   "file_extension": ".py",
   "mimetype": "text/x-python",
   "name": "python",
   "nbconvert_exporter": "python",
   "pygments_lexer": "ipython3",
   "version": "3.10.1"
  }
 },
 "nbformat": 4,
 "nbformat_minor": 5
}
