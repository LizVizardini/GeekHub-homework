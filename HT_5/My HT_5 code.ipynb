{
 "cells": [
  {
   "cell_type": "code",
   "execution_count": 2,
   "id": "49bbfba1",
   "metadata": {},
   "outputs": [
    {
     "name": "stdout",
     "output_type": "stream",
     "text": [
      "Please enter the length of the side of the square: 787\n"
     ]
    },
    {
     "data": {
      "text/plain": [
       "(3148.0, 619369.0, 1112.986073587626)"
      ]
     },
     "execution_count": 2,
     "metadata": {},
     "output_type": "execute_result"
    }
   ],
   "source": [
    "#TASK 1\n",
    "#Написати функцію <square>, яка прийматиме один аргумент - сторону квадрата,\n",
    "#і вертатиме 3 значення у вигляді кортежа: периметр квадрата, площа квадрата та його діагональ.\n",
    "\n",
    "\n",
    "import math\n",
    "\n",
    "\n",
    "def square(side):\n",
    "    P = 4 * side\n",
    "    S = side ** 2\n",
    "    d = side * math.sqrt(2)\n",
    "    return (P, S, d)\n",
    "\n",
    "\n",
    "square(float(input('Please enter the length of the side of the square: ')))"
   ]
  },
  {
   "cell_type": "code",
   "execution_count": 15,
   "id": "d5a97a3a",
   "metadata": {},
   "outputs": [
    {
     "name": "stdout",
     "output_type": "stream",
     "text": [
      "Amount of deposit: 766\n",
      "After how many years do you plan to get the money back? 5\n",
      "At what percentage is the money invested? \n",
      "\n",
      "After 1 year(s), the amount is 842.6 currency units\n",
      "After 2 year(s), the amount is 926.86 currency units\n",
      "After 3 year(s), the amount is 1019.546 currency units\n",
      "After 4 year(s), the amount is 1121.5006 currency units\n",
      "After 5 year(s), the amount is 1233.65066 currency units\n",
      "\n",
      "The amount you will receive as a result:  1233.65\n"
     ]
    }
   ],
   "source": [
    "#TASK 2\n",
    "\"\"\"Написати функцію <bank> , яка працює за наступною логікою: користувач робить вклад у розмірі <a> одиниць строком на <years>\n",
    "років під <percent> відсотків (кожен рік сума вкладу збільшується на цей відсоток, ці гроші додаються до суми вкладу і в наступному\n",
    "році на них також нараховуються відсотки). Параметр <percents> є необов'язковим і має значення по замовчуванню <10> (10%).\n",
    "Функція повинна принтануть суму, яка буде на рахунку, а також її повернути (але округлену до копійок).\"\"\"\n",
    "\n",
    "\n",
    "def bank(a, years, percent = 10):\n",
    "    for i in range (years):\n",
    "        a += a * percent / 100\n",
    "        print(f'After {i + 1} year(s), the amount is {a} currency units')\n",
    "    rounded_sum = round(a, 2)\n",
    "    return rounded_sum\n",
    "\n",
    "\n",
    "a = float(input('Amount of deposit: '))\n",
    "years = int(input('After how many years do you plan to get the money back? '))\n",
    "try:\n",
    "    percent = int(input('At what percentage is the money invested? \\n'))\n",
    "    print('\\nThe amount you will receive as a result: ', bank(a, years, percent))\n",
    "except ValueError:\n",
    "    print('\\nThe amount you will receive as a result: ', bank(a, years))"
   ]
  },
  {
   "cell_type": "code",
   "execution_count": 67,
   "id": "01f67ced",
   "metadata": {},
   "outputs": [
    {
     "name": "stdout",
     "output_type": "stream",
     "text": [
      "Please enter an integer from 0 to 1000: 5\n"
     ]
    },
    {
     "data": {
      "text/plain": [
       "'This number is  prime!'"
      ]
     },
     "execution_count": 67,
     "metadata": {},
     "output_type": "execute_result"
    }
   ],
   "source": [
    "#TASK 3\n",
    "#Написати функцию <is_prime>, яка прийматиме 1 аргумент - число від 0 до 1000,\n",
    "#і яка вертатиме True, якщо це число просте і False - якщо ні.\n",
    "\n",
    "\n",
    "def is_prime(number):\n",
    "    try:\n",
    "        if (number == 0) or (number == 1):\n",
    "            return False\n",
    "        elif number == 2:\n",
    "            return True\n",
    "        else:\n",
    "            counter = 0\n",
    "            for i in range (2, number):\n",
    "                if number % i == 0:\n",
    "                    counter += 1\n",
    "            if counter:\n",
    "                return False\n",
    "            else:\n",
    "                return True\n",
    "    except ValueError:\n",
    "        print('Try again')\n",
    "        \n",
    "        \n",
    "def human_lang_output():\n",
    "    if is_prime(int(input('Please enter an integer from 0 to 1000: '))):\n",
    "        yes_no = ''\n",
    "    else:\n",
    "        yes_no = 'not'\n",
    "    return f'This number is {yes_no} prime!'\n",
    "\n",
    "\n",
    "human_lang_output()"
   ]
  },
  {
   "cell_type": "code",
   "execution_count": 64,
   "id": "f6f6ce3b",
   "metadata": {},
   "outputs": [
    {
     "name": "stdout",
     "output_type": "stream",
     "text": [
      "Pls enter the 1st number of the interval u wanna check: dff\n",
      "\n",
      "U have to enter 2 INTEGER NUMBERS that mark the limits of the interval in 2 different inputs\n",
      "Try again\n",
      "Pls enter the 1st number of the interval u wanna check: 76.76\n",
      "\n",
      "U have to enter 2 INTEGER NUMBERS that mark the limits of the interval in 2 different inputs\n",
      "Try again\n",
      "Pls enter the 1st number of the interval u wanna check: 45, 767\n",
      "\n",
      "U have to enter 2 INTEGER NUMBERS that mark the limits of the interval in 2 different inputs\n",
      "Try again\n",
      "Pls enter the 1st number of the interval u wanna check: 867\n",
      "And the last: 856\n",
      "\n",
      "Prime numbers inside the interval:  [857, 859, 863]\n"
     ]
    }
   ],
   "source": [
    "#TASK 4\n",
    "#Написати функцію <prime_list>, яка прийматиме 2 аргументи - початок і кінець діапазона, і вертатиме список простих чисел\n",
    "#всередині цього діапазона. Не забудьте про перевірку на валідність введених даних та у випадку невідповідності - виведіть повідомлення.\n",
    "\n",
    "\n",
    "#from .task3 import is_prime\n",
    "\n",
    "\n",
    "def prime_list(start, end):\n",
    "    prime_numbers_list = []\n",
    "    for i in range (start, end + 1):\n",
    "        if is_prime(i):\n",
    "            prime_numbers_list.append(i)\n",
    "    print('\\nPrime numbers inside the interval: ', prime_numbers_list)\n",
    "\n",
    "    \n",
    "while True:\n",
    "    try:\n",
    "        ab = sorted([int(input('Pls enter the 1st number of the interval u wanna check: ')), int(input('And the last: '))])\n",
    "        prime_list(ab[0], ab[1])\n",
    "        break\n",
    "    except ValueError:\n",
    "        print('\\nU have to enter 2 INTEGER NUMBERS that mark the limits of the interval in 2 different inputs')\n",
    "        print('Try again')"
   ]
  },
  {
   "cell_type": "code",
   "execution_count": 94,
   "id": "5838e326",
   "metadata": {},
   "outputs": [
    {
     "name": "stdout",
     "output_type": "stream",
     "text": [
      "Enter an integer number and I`ll return all Fibonacci numbers not exceeding it: ghvnk\n",
      "The numbers are above the letters on the keyboard. Feel free to use them ;)\n",
      "\n",
      "Enter an integer number and I`ll return all Fibonacci numbers not exceeding it: 2048\n",
      "[0, 1, 1, 2, 3, 5, 8, 13, 21, 34, 55, 89, 144, 233, 377, 610, 987, 1597]\n"
     ]
    }
   ],
   "source": [
    "#TASK 5\n",
    "#Написати функцію <fibonacci>, яка приймає один аргумент і виводить всі числа Фібоначчі, що не перевищують його.\n",
    "\n",
    "\n",
    "def fibonacci(stop):\n",
    "    fibonacci_list = [0, 1]\n",
    "    i = 0\n",
    "    if stop < 0:\n",
    "        return []\n",
    "    elif stop == 0:\n",
    "        return [0]\n",
    "    else:\n",
    "        while True:\n",
    "            next_element = fibonacci_list[-1] + fibonacci_list[-2]\n",
    "            if next_element > stop:\n",
    "                break\n",
    "            else:\n",
    "                fibonacci_list.append(next_element)\n",
    "        return fibonacci_list\n",
    "            \n",
    "\n",
    "while True:\n",
    "    try:            \n",
    "        print(fibonacci(int(input('Enter an integer number and I`ll return all Fibonacci numbers not exceeding it: '))))\n",
    "        break\n",
    "    except ValueError:\n",
    "        print('The numbers are above the letters on the keyboard. Feel free to use them ;)\\n')"
   ]
  },
  {
   "cell_type": "code",
   "execution_count": 106,
   "id": "e3baf38b",
   "metadata": {},
   "outputs": [
    {
     "name": "stdout",
     "output_type": "stream",
     "text": [
      "[5, 1, 2, 3, 4]\n",
      "[3, 4, 5, 1, 2]\n"
     ]
    }
   ],
   "source": [
    "#TASK 6\n",
    "\"\"\"Написати функцію, яка буде реалізувати логіку циклічного зсуву елементів в списку. Тобто функція приймає два аргументи:\n",
    "список і величину зсуву (якщо ця величина додатна - пересуваємо з кінця на початок, якщо від'ємна - навпаки -\n",
    "пересуваємо елементи з початку списку в його кінець).\n",
    "   Наприклад:\n",
    "   fnc([1, 2, 3, 4, 5], shift=1) --> [5, 1, 2, 3, 4]\n",
    "   fnc([1, 2, 3, 4, 5], shift=-2) --> [3, 4, 5, 1, 2]\"\"\"\n",
    "\n",
    "\n",
    "def fnc(lst, shift):\n",
    "    l = len(lst)\n",
    "    if shift > 0:\n",
    "        i = -1\n",
    "        while i >= -shift:\n",
    "            lst.insert(0, lst[i])\n",
    "            i -= 1\n",
    "        lst = lst[:l]\n",
    "    if shift < 0:\n",
    "        i = 0\n",
    "        for i in range (- shift):\n",
    "            lst.append(lst[i])\n",
    "        lst = lst[-shift:]\n",
    "    print(lst)\n",
    "        \n",
    "        \n",
    "fnc([1, 2, 3, 4, 5], shift = 1)\n",
    "fnc([1, 2, 3, 4, 5], shift = -2)"
   ]
  },
  {
   "cell_type": "code",
   "execution_count": 178,
   "id": "f837b36b",
   "metadata": {},
   "outputs": [
    {
     "name": "stdout",
     "output_type": "stream",
     "text": [
      "1 -> 3\n",
      "foo -> 2\n",
      "[1, 2] -> 2\n",
      "True -> 1\n"
     ]
    }
   ],
   "source": [
    "#TASK 7\n",
    "#Написати функцію, яка приймає на вхід список (через кому), підраховує кількість однакових елементів у ньому і виводить результат.\n",
    "#Елементами списку можуть бути дані будь-яких типів.\n",
    "#    Наприклад:\n",
    "#    1, 1, 'foo', [1, 2], True, 'foo', 1, [1, 2] ----> \"1 -> 3, foo -> 2, [1, 2] -> 2, True -> 1\n",
    "\n",
    "lst = [1, 1, 'foo', [1, 2], True, 'foo', 1, [1, 2]]\n",
    "\n",
    "\n",
    "def count_list_elements(lst):\n",
    "    unique_elements, bools = [], []\n",
    "    for i in lst:\n",
    "        if (i not in unique_elements) & (type(i) != bool):\n",
    "            unique_elements.append(i)\n",
    "        if type(i) == bool:\n",
    "            bools.append(i)\n",
    "    i = 0\n",
    "    while i < len(lst):\n",
    "        if type(lst[i]) == bool:\n",
    "            del lst[i]\n",
    "        else:\n",
    "            i += 1\n",
    "    for i in unique_elements:\n",
    "        print(i, '->', lst.count(i))\n",
    "    if True in bools:\n",
    "        print(True, '->', bools.count(True))\n",
    "    if False in bools:\n",
    "        print(False, '->', bools.count(False))\n",
    "        \n",
    "        \n",
    "count_list_elements(lst)"
   ]
  }
 ],
 "metadata": {
  "kernelspec": {
   "display_name": "Python 3 (ipykernel)",
   "language": "python",
   "name": "python3"
  },
  "language_info": {
   "codemirror_mode": {
    "name": "ipython",
    "version": 3
   },
   "file_extension": ".py",
   "mimetype": "text/x-python",
   "name": "python",
   "nbconvert_exporter": "python",
   "pygments_lexer": "ipython3",
   "version": "3.10.1"
  }
 },
 "nbformat": 4,
 "nbformat_minor": 5
}
